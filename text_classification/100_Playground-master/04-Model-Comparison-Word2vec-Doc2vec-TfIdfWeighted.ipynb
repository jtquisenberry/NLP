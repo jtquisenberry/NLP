{
 "cells": [
  {
   "cell_type": "markdown",
   "metadata": {},
   "source": [
    "# Performance of Different Word Embeddings on Text Classification\n",
    "\n",
    "## Compared among word2vec, TF-IDF weighted, GloVe and doc2vec"
   ]
  },
  {
   "cell_type": "code",
   "execution_count": 1,
   "metadata": {},
   "outputs": [],
   "source": [
    "%load_ext autoreload\n",
    "%autoreload 2"
   ]
  },
  {
   "cell_type": "code",
   "execution_count": 2,
   "metadata": {},
   "outputs": [],
   "source": [
    "import pandas as pd\n",
    "import numpy as np\n",
    "from numpy import random\n",
    "import gensim\n",
    "import spacy\n",
    "import nltk\n",
    "import os\n",
    "import pickle\n",
    "\n",
    "import matplotlib.pyplot as plt\n",
    "import re\n",
    "import warnings\n",
    "warnings.simplefilter('ignore')\n",
    "pd.set_option('max_colwidth',1000)\n",
    "\n",
    "\n",
    "%matplotlib inline"
   ]
  },
  {
   "cell_type": "markdown",
   "metadata": {},
   "source": [
    "# Abstract"
   ]
  },
  {
   "cell_type": "markdown",
   "metadata": {},
   "source": [
    "## The Incentive\n",
    "\n",
    "It's been a while not able to write new posts, so sad, but now finally I am back again to share some of the knowledge I've just acquired. This time is about NLP. \n",
    "\n",
    "As a fresh rookie in NLP, I'd like to play around and test out how different methods of creating doc vector perform on text classification. This post will be highly focused on feature engineering side, that is word vectorization, and less on modeling. Thus, without further due, let's get started."
   ]
  },
  {
   "cell_type": "markdown",
   "metadata": {},
   "source": [
    "## Brief Introduction\n",
    "\n",
    "The word embeddings being investigated here are word2vec, TF-IDF weighted word2vec, pre-train GloVe word2vec and doc2vec. The packages needed are Gensim, Spacy and Scikit-Learn. Spacy is used in doc preprocessing, including stop word removal and custom token selection based on its part of speech. Gensim is heavily applied for training word2vec and doc2vec, and lastly, Scikit-Learn is for classifier building and training."
   ]
  },
  {
   "cell_type": "markdown",
   "metadata": {},
   "source": [
    "## Quick Summary\n",
    "\n",
    "After a series of comparison on different word embedding/averaging methods, it turns out that custom-trained word embedding and its averaging method, either simple mean or TF-IDF weighted has the best performance, while on the contrary, GloVe word embedding or custom-trained Doc2vec perform slightly worse than the former word embedding.\n",
    "\n",
    "Besides, even if we try to concatenate both word2vec and doc2vec as a whole feature set, it performs equally the same to just using averaging word embedding alone. In other words, no need to use both word2vec and doc2vec at the same time.\n",
    "\n",
    "\n",
    "| WordEmbedding Method        | F1 Score - Training | F1 Score - Testing | Accuracy - Training | Accuracy - Testing |\n",
    "| :---:                       | :---:               | :---:              | :---:               | :---:              |\n",
    "| Mean Word2vec               | 0.82                | 0.81               | 0.82                | 0.81               |\n",
    "| Tf-Idf Mean Word2vec        | 0.82                | 0.81               | 0.82                | 0.81               |\n",
    "| GloVe Mean Word2vec         | 0.72                | 0.71               | 0.73                | 0.72               |\n",
    "| PV-DM Doc2vec               | 0.79                | 0.78               | 0.79                | 0.78               |\n",
    "| Tf-Idf Word2vec + Doc2vec   | 0.84                | 0.81               | 0.85                | 0.82               |\n"
   ]
  },
  {
   "cell_type": "markdown",
   "metadata": {},
   "source": [
    "## Special Credits to the Following Posts and Authors\n",
    "\n",
    "In creating my **python class object** used for text preprocessing, I referred from these well-written posts.\n",
    "\n",
    "* The post [\"Text Classification with Word2vec\"](http://nadbordrozd.github.io/blog/2016/05/20/text-classification-with-word2vec/) by nadbor demos how to write your own class to compute average word embedding for doc, either simple averaging or TF-IDF weighted one.\n",
    "\n",
    "* [\"Multi-Class Text Classification Model Comparison and Selection\"](https://towardsdatascience.com/multi-class-text-classification-model-comparison-and-selection-5eb066197568) by Susan Li teaches me how to write beautiful averaging function for word embedding.\n",
    "\n",
    "* This tutorial [\"Gensim Doc2vec Tutorial on the IMDB Sentiment Dataset\"](https://github.com/RaRe-Technologies/gensim/blob/3c3506d51a2caf6b890de3b1b32a8b85f7566ca5/docs/notebooks/doc2vec-IMDB.ipynb) has step by step guidance on how to create doc2vec via Gensim.\n",
    "\n",
    "* [\"Distributed representations of sentences and documents\"](https://blog.acolyer.org/2016/06/01/distributed-representations-of-sentences-and-documents/) by Le & Mikolov presents a clear and easy-to-understand explanation on what's going under doc2vec."
   ]
  },
  {
   "cell_type": "markdown",
   "metadata": {},
   "source": [
    "# Data Preparation"
   ]
  },
  {
   "cell_type": "markdown",
   "metadata": {},
   "source": [
    "The dataset I am gonna use here is consumer complaints dataset on financial product/service as referred from [the post](https://towardsdatascience.com/multi-class-text-classification-with-doc2vec-logistic-regression-9da9947b43f4). The dataset is collected and published by [US GOV CFPB](https://catalog.data.gov/dataset/consumer-complaint-database), while we can also download the dataset from [Kaggle](https://www.kaggle.com/cfpb/us-consumer-finance-complaints).\n",
    "\n",
    "The original dataset contains more than 500 thousands records, and columns include product, sub_product, issue, consumer_complaint_narrative, and company_response_to_consumer etc.. We will just use **product** as text label and **consumer_complaint_narrative** as text itself. After dropping rows of missing values on consumer complaint we are left with around 60 thousands records. In order to lessen the computing pressure, I will just experiment on the first 25 thousands records only."
   ]
  },
  {
   "cell_type": "markdown",
   "metadata": {},
   "source": [
    "## Read in Dataset"
   ]
  },
  {
   "cell_type": "code",
   "execution_count": 3,
   "metadata": {},
   "outputs": [],
   "source": [
    "# Read in file.\n",
    "dir_path = '../Private-Dataset'\n",
    "\n",
    "df = pd.read_csv(os.path.join(dir_path, 'consumer_complaints_simple.csv'))\n",
    "df = df[pd.notnull(df['consumer_complaint_narrative'])]"
   ]
  },
  {
   "cell_type": "markdown",
   "metadata": {},
   "source": [
    "## Get Familiar with Dataset"
   ]
  },
  {
   "cell_type": "code",
   "execution_count": 4,
   "metadata": {},
   "outputs": [
    {
     "data": {
      "text/plain": [
       "(66806, 18)"
      ]
     },
     "execution_count": 4,
     "metadata": {},
     "output_type": "execute_result"
    }
   ],
   "source": [
    "# Get familiar with dataset.\n",
    "df.shape"
   ]
  },
  {
   "cell_type": "code",
   "execution_count": 5,
   "metadata": {},
   "outputs": [
    {
     "name": "stdout",
     "output_type": "stream",
     "text": [
      "<class 'pandas.core.frame.DataFrame'>\n",
      "Int64Index: 66806 entries, 0 to 66805\n",
      "Data columns (total 18 columns):\n",
      "date_received                   66806 non-null object\n",
      "product                         66806 non-null object\n",
      "sub_product                     46351 non-null object\n",
      "issue                           66806 non-null object\n",
      "sub_issue                       32932 non-null object\n",
      "consumer_complaint_narrative    66806 non-null object\n",
      "company_public_response         32776 non-null object\n",
      "company                         66806 non-null object\n",
      "state                           66620 non-null object\n",
      "zipcode                         66617 non-null object\n",
      "tags                            11417 non-null object\n",
      "consumer_consent_provided       66806 non-null object\n",
      "submitted_via                   66806 non-null object\n",
      "date_sent_to_company            66806 non-null object\n",
      "company_response_to_consumer    66806 non-null object\n",
      "timely_response                 66806 non-null object\n",
      "consumer_disputed?              66806 non-null object\n",
      "complaint_id                    66806 non-null int64\n",
      "dtypes: int64(1), object(17)\n",
      "memory usage: 9.7+ MB\n"
     ]
    }
   ],
   "source": [
    "df.info()"
   ]
  },
  {
   "cell_type": "code",
   "execution_count": null,
   "metadata": {},
   "outputs": [],
   "source": [
    "df.to_csv(os.path.join(dir_path, 'consumer_complaints_simple.csv'), index=False)"
   ]
  },
  {
   "cell_type": "markdown",
   "metadata": {},
   "source": [
    "## Filter on Text and Label"
   ]
  },
  {
   "cell_type": "code",
   "execution_count": 6,
   "metadata": {},
   "outputs": [],
   "source": [
    "# Filter on text and label.\n",
    "df = df[['product','consumer_complaint_narrative']]"
   ]
  },
  {
   "cell_type": "code",
   "execution_count": 7,
   "metadata": {},
   "outputs": [],
   "source": [
    "# Experiment on smaller subset.\n",
    "df = df[:25000]"
   ]
  },
  {
   "cell_type": "markdown",
   "metadata": {},
   "source": [
    "<mark>**Chart of Label Frequency**</mark>\n",
    "\n",
    "Now, let's see how frequency distributed among each label."
   ]
  },
  {
   "cell_type": "code",
   "execution_count": null,
   "metadata": {},
   "outputs": [],
   "source": [
    "# Distribution of target variable.\n",
    "display(df['product'].value_counts())\n",
    "\n",
    "# df[['product', 'sub_product']].apply(lambda x: str(x[0]) + '///' + str(x[1]),\n",
    "#                                      axis=1).value_counts()"
   ]
  },
  {
   "cell_type": "code",
   "execution_count": 8,
   "metadata": {},
   "outputs": [
    {
     "name": "stdout",
     "output_type": "stream",
     "text": [
      "Frequency(Top 30)...\n"
     ]
    },
    {
     "data": {
      "text/html": [
       "<div>\n",
       "<style scoped>\n",
       "    .dataframe tbody tr th:only-of-type {\n",
       "        vertical-align: middle;\n",
       "    }\n",
       "\n",
       "    .dataframe tbody tr th {\n",
       "        vertical-align: top;\n",
       "    }\n",
       "\n",
       "    .dataframe thead th {\n",
       "        text-align: right;\n",
       "    }\n",
       "</style>\n",
       "<table border=\"1\" class=\"dataframe\">\n",
       "  <thead>\n",
       "    <tr style=\"text-align: right;\">\n",
       "      <th></th>\n",
       "      <th>count</th>\n",
       "      <th>freq</th>\n",
       "    </tr>\n",
       "  </thead>\n",
       "  <tbody>\n",
       "    <tr>\n",
       "      <th>Debt collection</th>\n",
       "      <td>7093</td>\n",
       "      <td>0.28372</td>\n",
       "    </tr>\n",
       "    <tr>\n",
       "      <th>Mortgage</th>\n",
       "      <td>5703</td>\n",
       "      <td>0.22812</td>\n",
       "    </tr>\n",
       "    <tr>\n",
       "      <th>Credit reporting</th>\n",
       "      <td>4584</td>\n",
       "      <td>0.18336</td>\n",
       "    </tr>\n",
       "    <tr>\n",
       "      <th>Credit card</th>\n",
       "      <td>2750</td>\n",
       "      <td>0.11000</td>\n",
       "    </tr>\n",
       "    <tr>\n",
       "      <th>Bank account or service</th>\n",
       "      <td>1923</td>\n",
       "      <td>0.07692</td>\n",
       "    </tr>\n",
       "    <tr>\n",
       "      <th>Consumer Loan</th>\n",
       "      <td>1292</td>\n",
       "      <td>0.05168</td>\n",
       "    </tr>\n",
       "    <tr>\n",
       "      <th>Student loan</th>\n",
       "      <td>917</td>\n",
       "      <td>0.03668</td>\n",
       "    </tr>\n",
       "    <tr>\n",
       "      <th>Payday loan</th>\n",
       "      <td>273</td>\n",
       "      <td>0.01092</td>\n",
       "    </tr>\n",
       "    <tr>\n",
       "      <th>Money transfers</th>\n",
       "      <td>270</td>\n",
       "      <td>0.01080</td>\n",
       "    </tr>\n",
       "    <tr>\n",
       "      <th>Prepaid card</th>\n",
       "      <td>154</td>\n",
       "      <td>0.00616</td>\n",
       "    </tr>\n",
       "    <tr>\n",
       "      <th>Other financial service</th>\n",
       "      <td>41</td>\n",
       "      <td>0.00164</td>\n",
       "    </tr>\n",
       "  </tbody>\n",
       "</table>\n",
       "</div>"
      ],
      "text/plain": [
       "                         count     freq\n",
       "Debt collection           7093  0.28372\n",
       "Mortgage                  5703  0.22812\n",
       "Credit reporting          4584  0.18336\n",
       "Credit card               2750  0.11000\n",
       "Bank account or service   1923  0.07692\n",
       "Consumer Loan             1292  0.05168\n",
       "Student loan               917  0.03668\n",
       "Payday loan                273  0.01092\n",
       "Money transfers            270  0.01080\n",
       "Prepaid card               154  0.00616\n",
       "Other financial service     41  0.00164"
      ]
     },
     "metadata": {},
     "output_type": "display_data"
    },
    {
     "data": {
      "image/png": "[encoded data removed]",
      "text/plain": [
       "<Figure size 1080x576 with 1 Axes>"
      ]
     },
     "metadata": {},
     "output_type": "display_data"
    }
   ],
   "source": [
    "from UtilTextClassification import plot_freq\n",
    "\n",
    "plot_freq(df, col=['product'], top_classes=30)"
   ]
  },
  {
   "cell_type": "markdown",
   "metadata": {},
   "source": [
    "<mark>**Sample of Dataset**</mark>\n",
    "\n",
    "Demo of (product, complaints) example to get a feeling of what complaints will be like to corresponding product."
   ]
  },
  {
   "cell_type": "code",
   "execution_count": 9,
   "metadata": {},
   "outputs": [
    {
     "name": "stdout",
     "output_type": "stream",
     "text": [
      "Demo of product and its complaint example...\n"
     ]
    },
    {
     "data": {
      "text/html": [
       "<div>\n",
       "<style scoped>\n",
       "    .dataframe tbody tr th:only-of-type {\n",
       "        vertical-align: middle;\n",
       "    }\n",
       "\n",
       "    .dataframe tbody tr th {\n",
       "        vertical-align: top;\n",
       "    }\n",
       "\n",
       "    .dataframe thead th {\n",
       "        text-align: right;\n",
       "    }\n",
       "</style>\n",
       "<table border=\"1\" class=\"dataframe\">\n",
       "  <thead>\n",
       "    <tr style=\"text-align: right;\">\n",
       "      <th></th>\n",
       "      <th>product</th>\n",
       "      <th>consumer_complaint_narrative</th>\n",
       "    </tr>\n",
       "  </thead>\n",
       "  <tbody>\n",
       "    <tr>\n",
       "      <th>0</th>\n",
       "      <td>Debt collection</td>\n",
       "      <td>XXXX has claimed I owe them {$27.00} for XXXX years despite the PROOF of PAYMENT I sent them : canceled check and their ownPAID INVOICE for {$27.00}! \\nThey continue to insist I owe them and collection agencies are after me. \\nHow can I stop this harassment for a bill I already paid four years ago? \\n</td>\n",
       "    </tr>\n",
       "    <tr>\n",
       "      <th>1</th>\n",
       "      <td>Consumer Loan</td>\n",
       "      <td>Due to inconsistencies in the amount owed that I was told by M &amp; T Bank and the amount that was reported to the credit reporting agencies, I was advised to write a good will letter in order to address the issue and request the negative entry be removed from my credit report all together. I had a vehicle that was stolen and it was declared a total loss by insurance company. The insurance company and the GAP insurancw companypaid the outstanding balance of the loan, but I was told by M &amp; T Bank that there was still a balance due on the loan. In good faith, without having received any proof as to why there was still a balance, I made a partial payment towards the remaining debt. I then sent the goodwill letter still offering to pay the remainder of the debt, but in exchange for the removal of the negative entry on my credit report. At one point, in XXXX 2015, per my credit monitoring agency, it showed a delinquent balance of {$0.00}, but when I checked my credit report again on XXXX X...</td>\n",
       "    </tr>\n",
       "    <tr>\n",
       "      <th>2</th>\n",
       "      <td>Mortgage</td>\n",
       "      <td>In XX/XX/XXXX my wages that I earned at my job decreased by almost half, by XX/XX/XXXX I knew I was in trouble with my home loan. I began contacting WFB whom my home loan is with, for assitance and options. \\nIn early XX/XX/XXXX I began the Loan Modification process with Wells Fargo Bank. I was told that they would not assist me with anything financial on my home loan until I fell 90 days behind, though at the time I started to inquire for assistance from WFB I was only a few weeks behind. So, I began working with a program called XXXX. They approved me for a variety of assistence and reached out to Wells Fargo Bank to determine what they could assist with. Wells Fargo then turned down the assistance from XXXX and finally offered to do a Loan Modification for me. The outcome was totally unknow about what I would be offered in the end by WFB for assistance. Wells Fargo lost my paperwork twice during this process, so it took 2 months from the time I started to the time my paperwork b...</td>\n",
       "    </tr>\n",
       "    <tr>\n",
       "      <th>3</th>\n",
       "      <td>Mortgage</td>\n",
       "      <td>I have an open and current mortgage with Chase Bank # XXXX. Chase is reporting the loan payments to XXXX but XXXX is surpressing the information and reporting the loan as Discharged in BK. This mortgage was reaffirmed in a Chapter XXXX BK discharged dated XXXX/XXXX/2013. Chase keeps referring to BK Law for Chapter XXXX and we keep providing documentation for Chapter XXXX, and the account should be open and current with all the payments \\n</td>\n",
       "    </tr>\n",
       "    <tr>\n",
       "      <th>4</th>\n",
       "      <td>Mortgage</td>\n",
       "      <td>XXXX was submitted XX/XX/XXXX. At the time I submitted this complaint, I had dealt with Rushmore Mortgage directly endeavoring to get them to stop the continuous daily calls I was receiving trying to collect on a mortgage for which I was not responsible due to bankruptcy. They denied having knowledge of the bankruptcy, even though I had spoken with them about it repeatedly and had written them repeatedly referencing the bankruptcy requesting them to cease the pursuit, they continued to do so. When they were unable to trick me into paying, force me into paying in retaliation they placed reported to my credit bureaus a past due mortgage amount that had been discharged in Federal Court. On XX/XX/XXXX Rushmore responded the referenced complaint indicating that they would remove the reporting from my bureau, yet it is still there now in XX/XX/XXXX. I would like them to remove it immediately and send me a letter indicating that it should not have been there in the first place and they ar...</td>\n",
       "    </tr>\n",
       "  </tbody>\n",
       "</table>\n",
       "</div>"
      ],
      "text/plain": [
       "           product  \\\n",
       "0  Debt collection   \n",
       "1    Consumer Loan   \n",
       "2         Mortgage   \n",
       "3         Mortgage   \n",
       "4         Mortgage   \n",
       "\n",
       "                                                                                                                                                                                                                                                                                                                                                                                                                                                                                                                                                                                                                                                                                                                                                                                                                                                                                                                                                                                                              consumer_complaint_narrative  \n",
       "0                                                                                                                                                                                                                                                                                                                                                                                                                                                                                                                                                                                                                                                                                                                           XXXX has claimed I owe them {$27.00} for XXXX years despite the PROOF of PAYMENT I sent them : canceled check and their ownPAID INVOICE for {$27.00}! \\nThey continue to insist I owe them and collection agencies are after me. \\nHow can I stop this harassment for a bill I already paid four years ago? \\n  \n",
       "1  Due to inconsistencies in the amount owed that I was told by M & T Bank and the amount that was reported to the credit reporting agencies, I was advised to write a good will letter in order to address the issue and request the negative entry be removed from my credit report all together. I had a vehicle that was stolen and it was declared a total loss by insurance company. The insurance company and the GAP insurancw companypaid the outstanding balance of the loan, but I was told by M & T Bank that there was still a balance due on the loan. In good faith, without having received any proof as to why there was still a balance, I made a partial payment towards the remaining debt. I then sent the goodwill letter still offering to pay the remainder of the debt, but in exchange for the removal of the negative entry on my credit report. At one point, in XXXX 2015, per my credit monitoring agency, it showed a delinquent balance of {$0.00}, but when I checked my credit report again on XXXX X...  \n",
       "2  In XX/XX/XXXX my wages that I earned at my job decreased by almost half, by XX/XX/XXXX I knew I was in trouble with my home loan. I began contacting WFB whom my home loan is with, for assitance and options. \\nIn early XX/XX/XXXX I began the Loan Modification process with Wells Fargo Bank. I was told that they would not assist me with anything financial on my home loan until I fell 90 days behind, though at the time I started to inquire for assistance from WFB I was only a few weeks behind. So, I began working with a program called XXXX. They approved me for a variety of assistence and reached out to Wells Fargo Bank to determine what they could assist with. Wells Fargo then turned down the assistance from XXXX and finally offered to do a Loan Modification for me. The outcome was totally unknow about what I would be offered in the end by WFB for assistance. Wells Fargo lost my paperwork twice during this process, so it took 2 months from the time I started to the time my paperwork b...  \n",
       "3                                                                                                                                                                                                                                                                                                                                                                                                                                                                                                                                                                               I have an open and current mortgage with Chase Bank # XXXX. Chase is reporting the loan payments to XXXX but XXXX is surpressing the information and reporting the loan as Discharged in BK. This mortgage was reaffirmed in a Chapter XXXX BK discharged dated XXXX/XXXX/2013. Chase keeps referring to BK Law for Chapter XXXX and we keep providing documentation for Chapter XXXX, and the account should be open and current with all the payments \\n  \n",
       "4  XXXX was submitted XX/XX/XXXX. At the time I submitted this complaint, I had dealt with Rushmore Mortgage directly endeavoring to get them to stop the continuous daily calls I was receiving trying to collect on a mortgage for which I was not responsible due to bankruptcy. They denied having knowledge of the bankruptcy, even though I had spoken with them about it repeatedly and had written them repeatedly referencing the bankruptcy requesting them to cease the pursuit, they continued to do so. When they were unable to trick me into paying, force me into paying in retaliation they placed reported to my credit bureaus a past due mortgage amount that had been discharged in Federal Court. On XX/XX/XXXX Rushmore responded the referenced complaint indicating that they would remove the reporting from my bureau, yet it is still there now in XX/XX/XXXX. I would like them to remove it immediately and send me a letter indicating that it should not have been there in the first place and they ar...  "
      ]
     },
     "execution_count": 9,
     "metadata": {},
     "output_type": "execute_result"
    }
   ],
   "source": [
    "print('Demo of product and its complaint example...')\n",
    "df.head()"
   ]
  },
  {
   "cell_type": "markdown",
   "metadata": {},
   "source": [
    "# Document Preprocessing"
   ]
  },
  {
   "cell_type": "markdown",
   "metadata": {},
   "source": [
    "Now comes the first step -Doc Preprocessing. Before we create our own word embedding based on the input texts, we need to preprocess the text so that it complies with the input format as Gensim requires. It involves multiple steps starting from word tokenization, bi-gram detection, lemmatization etc..\n",
    "\n",
    "Here, I wrote a python class called **DocProcess**. This class implements all the nitty-gritty jobs mentioned above for us under the hood, such as:\n",
    "\n",
    "1. First, the class takes in a series of texts, then tokenizes the text and removes all punctuations.\n",
    "\n",
    "2. It has the option build_bi, meaning whether to build up bi-gram, function adopted from Gensim. The default is False, if option build_bi is set to True, then the class will train a bi-gram detector and create bi-gram words for the text.\n",
    "\n",
    "3. Now, all the processed tokens are concatenated back to form a sentence again.\n",
    "\n",
    "4. The texts are tokenized once again, but this time, both **stop words** and **parts of speech** that are not allowed in the text will be removed and all tokens are **lemmatized**. These tokens are stored as `self.doc_words` - list of the tokens for each text(doc).\n",
    "\n",
    "5. Finally, these `self.doc_words` are wrapped up into **TaggedDocument**, a object type in Gensim for later use in doc2vec training. It's stored in `self.tagdocs`."
   ]
  },
  {
   "cell_type": "code",
   "execution_count": 5,
   "metadata": {},
   "outputs": [],
   "source": [
    "import spacy\n",
    "\n",
    "\n",
    "nlp = spacy.load('en_core_web_md')\n",
    "stop_words = spacy.lang.en.stop_words.STOP_WORDS"
   ]
  },
  {
   "cell_type": "code",
   "execution_count": null,
   "metadata": {},
   "outputs": [],
   "source": [
    "from UtilWordEmbedding import DocPreprocess\n",
    "\n",
    "\n",
    "\n",
    "all_docs = DocPreprocess(nlp, stop_words, df['consumer_complaint_narrative'], df['product'])"
   ]
  },
  {
   "cell_type": "code",
   "execution_count": null,
   "metadata": {},
   "outputs": [],
   "source": [
    "import pickle\n",
    "\n",
    "\n",
    "# Save all_docs as pickle.\n",
    "with open(os.path.join(dir_path, 'all_docs.pickle'), 'wb') as f:\n",
    "    pickle.dump(all_docs, f, pickle.HIGHEST_PROTOCOL)"
   ]
  },
  {
   "cell_type": "code",
   "execution_count": 4,
   "metadata": {},
   "outputs": [],
   "source": [
    "import pickle\n",
    "\n",
    "\n",
    "# Read pickle.\n",
    "with open(os.path.join(dir_path, 'all_docs.pickle'), 'rb') as f:\n",
    "    all_docs = pickle.load(f)"
   ]
  },
  {
   "cell_type": "markdown",
   "metadata": {},
   "source": [
    "## Deomo - Structure of Preprocessed Docs"
   ]
  },
  {
   "cell_type": "code",
   "execution_count": 6,
   "metadata": {},
   "outputs": [
    {
     "data": {
      "text/plain": [
       "UtilWordEmbedding.DocPreprocess"
      ]
     },
     "execution_count": 6,
     "metadata": {},
     "output_type": "execute_result"
    }
   ],
   "source": [
    "# Demo: structure of preprocessed docs.\n",
    "type(all_docs)"
   ]
  },
  {
   "cell_type": "code",
   "execution_count": 7,
   "metadata": {},
   "outputs": [
    {
     "data": {
      "text/plain": [
       "25000"
      ]
     },
     "execution_count": 7,
     "metadata": {},
     "output_type": "execute_result"
    }
   ],
   "source": [
    "len(all_docs.tagdocs)"
   ]
  },
  {
   "cell_type": "code",
   "execution_count": 8,
   "metadata": {
    "scrolled": true
   },
   "outputs": [
    {
     "name": "stdout",
     "output_type": "stream",
     "text": [
      "Demo of tagged document...\n"
     ]
    },
    {
     "data": {
      "text/plain": [
       "TaggedDocument(words=['xxxx', 'submit', 'xx', 'time', 'submit', 'complaint', 'deal', 'rushmore', 'mortgage', 'directly', 'endeavor', 'stop', 'continuous', 'daily', 'call', 'receive', 'try', 'collect', 'mortgage', 'responsible', 'bankruptcy', 'deny', 'have', 'knowledge', 'bankruptcy', 'speak', 'repeatedly', 'write', 'repeatedly', 'reference', 'bankruptcy', 'request', 'cease', 'pursuit', 'continue', 'unable', 'trick', 'pay', 'force', 'pay', 'retaliation', 'place', 'report', 'credit', 'bureau', 'mortgage', 'discharge', 'federal', 'court', 'xx', 'xx', 'xxxx', 'rushmore', 'respond', 'reference', 'complaint', 'indicate', 'remove', 'reporting', 'bureau', 'xx', 'xx', 'like', 'remove', 'immediately', 'send', 'letter', 'indicate', 'place', 'go', 'remove', 'bureaus', 'rushmore', 'speak', 'represent', 'new', 'note', 'holder', 'cfpb', 'involve', 'identify', 'servicing', 'agency', 'xxxx', 'credit', 'bullying', 'racial', 'discrimination', 'practice', 'damaging', 'expose', 'tactic', 'need', 'stop', 'deny', 'intent', 'walk', 'away', 'penalty', 'kind', 'reason', 'continue', 'assist', 'procure', 'resolution'], tags=[4])"
      ]
     },
     "execution_count": 8,
     "metadata": {},
     "output_type": "execute_result"
    }
   ],
   "source": [
    "print('Demo of tagged document...')\n",
    "all_docs.tagdocs[4]"
   ]
  },
  {
   "cell_type": "code",
   "execution_count": 10,
   "metadata": {},
   "outputs": [
    {
     "name": "stdout",
     "output_type": "stream",
     "text": [
      "Demo of doc words...\n"
     ]
    },
    {
     "data": {
      "text/plain": [
       "['xxxx',\n",
       " 'submit',\n",
       " 'xx',\n",
       " 'time',\n",
       " 'submit',\n",
       " 'complaint',\n",
       " 'deal',\n",
       " 'rushmore',\n",
       " 'mortgage',\n",
       " 'directly']"
      ]
     },
     "execution_count": 10,
     "metadata": {},
     "output_type": "execute_result"
    }
   ],
   "source": [
    "print('Demo of doc words...')\n",
    "all_docs.doc_words[4][:10]"
   ]
  },
  {
   "cell_type": "code",
   "execution_count": 11,
   "metadata": {},
   "outputs": [
    {
     "name": "stdout",
     "output_type": "stream",
     "text": [
      "Label of tagged document...\n"
     ]
    },
    {
     "data": {
      "text/plain": [
       "'Mortgage'"
      ]
     },
     "execution_count": 11,
     "metadata": {},
     "output_type": "execute_result"
    }
   ],
   "source": [
    "print('Label of tagged document...')\n",
    "all_docs.labels.iloc[4]"
   ]
  },
  {
   "cell_type": "markdown",
   "metadata": {},
   "source": [
    "# Build up Word Model - Word2vec"
   ]
  },
  {
   "cell_type": "markdown",
   "metadata": {},
   "source": [
    "Since the text are properly processed, we're ready to train our word2vec via Gensim. Here I chose the dimension size 100 for each word embedding and window size of 5. The training iterates for 100 times."
   ]
  },
  {
   "cell_type": "code",
   "execution_count": 13,
   "metadata": {
    "scrolled": true
   },
   "outputs": [
    {
     "name": "stdout",
     "output_type": "stream",
     "text": [
      "number of cpu: 8\n"
     ]
    }
   ],
   "source": [
    "import multiprocessing\n",
    "import sys\n",
    "from gensim.models.word2vec import Word2Vec\n",
    "\n",
    "workers = multiprocessing.cpu_count()\n",
    "print('number of cpu: {}'.format(workers))\n",
    "assert gensim.models.doc2vec.FAST_VERSION > -1, \"This will be painfully slow otherwise.\""
   ]
  },
  {
   "cell_type": "code",
   "execution_count": 34,
   "metadata": {},
   "outputs": [],
   "source": [
    "word_model = Word2Vec(all_docs.doc_words,\n",
    "                      min_count=2,\n",
    "                      size=100,\n",
    "                      window=5,\n",
    "                      workers=workers,\n",
    "                      iter=100)"
   ]
  },
  {
   "cell_type": "markdown",
   "metadata": {},
   "source": [
    "# Averaging Word Embedding for Each Doc"
   ]
  },
  {
   "cell_type": "markdown",
   "metadata": {},
   "source": [
    "OK! Now we have the word embedding at hand, we'll be using the word embedding to compute for representative vector for whole text. It then serves as feature input for text classification model. There are various ways to come up with doc vector. First, let's start with the simple one."
   ]
  },
  {
   "cell_type": "markdown",
   "metadata": {},
   "source": [
    "## Simple Averaging on Word Embedding"
   ]
  },
  {
   "cell_type": "markdown",
   "metadata": {},
   "source": [
    "This is a rather straightforward method. It directly averages all word embedding occurred in the text. Here I adapted the code from these two posts [2](http://nadbordrozd.github.io/blog/2016/05/20/text-classification-with-word2vec/), [3](https://towardsdatascience.com/multi-class-text-classification-model-comparison-and-selection-5eb066197568) and created the python class **MeanWordEmbeddingVectorizer**."
   ]
  },
  {
   "cell_type": "code",
   "execution_count": 35,
   "metadata": {
    "scrolled": false
   },
   "outputs": [
    {
     "name": "stderr",
     "output_type": "stream",
     "text": [
      "WARNING:root:cannot compute average owing to no vector for []\n"
     ]
    }
   ],
   "source": [
    "from UtilWordEmbedding import MeanEmbeddingVectorizer\n",
    "\n",
    "\n",
    "mean_vec_tr = MeanEmbeddingVectorizer(word_model)\n",
    "doc_vec = mean_vec_tr.transform(all_docs.doc_words)\n",
    "\n",
    "# print('Demo of word averaging doc vector...')\n",
    "# display(doc_vec[4])"
   ]
  },
  {
   "cell_type": "code",
   "execution_count": 36,
   "metadata": {},
   "outputs": [
    {
     "name": "stdout",
     "output_type": "stream",
     "text": [
      "Shape of word-mean doc2vec...\n"
     ]
    },
    {
     "data": {
      "text/plain": [
       "(25000, 100)"
      ]
     },
     "metadata": {},
     "output_type": "display_data"
    },
    {
     "name": "stdout",
     "output_type": "stream",
     "text": [
      "Save word-mean doc2vec as csv file...\n"
     ]
    }
   ],
   "source": [
    "# Save word averaging doc2vec.\n",
    "print('Shape of word-mean doc2vec...')\n",
    "display(doc_vec.shape)\n",
    "print('Save word-mean doc2vec as csv file...')\n",
    "np.savetxt(os.path.join(dir_path,'doc_vec.csv'), doc_vec, delimiter=',')"
   ]
  },
  {
   "cell_type": "markdown",
   "metadata": {},
   "source": [
    "## TF-IDF Weighted Averaging on Word Embedding"
   ]
  },
  {
   "cell_type": "markdown",
   "metadata": {},
   "source": [
    "Not just satisfied with simple averaging? We can further adopt TF-IDF as weights for each word embedding. This will amplify the role of significant word in computing doc vector. Here, the whole process is implemented under class **TfidfEmbeddingVectorizer**. Again, the code is adapted from the same post source.\n",
    "\n",
    "One thing worth noted is that, the Term Frequency has already been considered when we conduct averaging over the text, but not Inverse Document Frequency, thus the weight literally being the IDF, and the unseen word is assigned the max IDF in default setting.\n",
    "\n",
    "And the other thing to note is that we need to fit the class with tokens first, for it must loop through all the words before hand in order to compute IDF."
   ]
  },
  {
   "cell_type": "code",
   "execution_count": 20,
   "metadata": {},
   "outputs": [],
   "source": [
    "from UtilWordEmbedding import TfidfEmbeddingVectorizer\n",
    "\n",
    "\n",
    "\n",
    "tfidf_vec_tr = TfidfEmbeddingVectorizer(word_model)"
   ]
  },
  {
   "cell_type": "code",
   "execution_count": 21,
   "metadata": {},
   "outputs": [
    {
     "name": "stderr",
     "output_type": "stream",
     "text": [
      "WARNING:root:cannot compute average owing to no vector for []\n"
     ]
    }
   ],
   "source": [
    "tfidf_vec_tr.fit(all_docs.doc_words)  # fit tfidf model first\n",
    "tfidf_doc_vec = tfidf_vec_tr.transform(all_docs.doc_words)\n",
    "\n",
    "\n",
    "# print('Demo of tf-idf word averaging doc vector...')\n",
    "# display(tfidf_doc_vec[4])"
   ]
  },
  {
   "cell_type": "code",
   "execution_count": 22,
   "metadata": {},
   "outputs": [
    {
     "name": "stdout",
     "output_type": "stream",
     "text": [
      "Shape of tfidf-word-mean doc2vec...\n"
     ]
    },
    {
     "data": {
      "text/plain": [
       "(25000, 100)"
      ]
     },
     "metadata": {},
     "output_type": "display_data"
    },
    {
     "name": "stdout",
     "output_type": "stream",
     "text": [
      "Save tfidf-word-mean doc2vec as csv file...\n"
     ]
    }
   ],
   "source": [
    "# Save tfidf word averaging doc2vec.\n",
    "print('Shape of tfidf-word-mean doc2vec...')\n",
    "display(tfidf_doc_vec.shape)\n",
    "print('Save tfidf-word-mean doc2vec as csv file...')\n",
    "np.savetxt(os.path.join(dir_path, 'tfidf_doc_vec.csv'), tfidf_doc_vec, delimiter=',')"
   ]
  },
  {
   "cell_type": "markdown",
   "metadata": {},
   "source": [
    "## Leverage Pre-train GloVe Word Embedding"
   ]
  },
  {
   "cell_type": "markdown",
   "metadata": {},
   "source": [
    "### Load in GloVe Vector"
   ]
  },
  {
   "cell_type": "markdown",
   "metadata": {},
   "source": [
    "Let's include another option - leveraging the existing pre-trained word embedding and see how it performs in text classification. Here I follow up the instructions from [Stanford NLP course(CS224N) notebook](http://web.stanford.edu/class/cs224n/materials/Gensim%20word%20vector%20visualization.html), importing GloVe word embedding into Gensim to compute for averaging word embedding on text.\n",
    "\n",
    "As a side note, I've also tried to apply Tf-IDF weighted method on GloVe vector, but found out that the result is basically the same as the ones from TF-IDF weighted averaging doc vector. Thus, I omit the demonstration and just include simple averaging on GloVe word vector here."
   ]
  },
  {
   "cell_type": "markdown",
   "metadata": {},
   "source": [
    "<mark>**APPENDIX: The explanation for logic behind loading pre-train word vector.**</mark>\n",
    "\n",
    "The result of `datapath()` shows that Gensim will try to load in dataset from */Users/XXX/miniconda3/lib/python3.7/site-packages/gensim/test/test_data/*, and calls it `glove_vec_fi`.\n",
    "\n",
    "It then uses `get_tmpfile()` to create a temporary file path to store the word2vec `tmp_word2vec_fi`, which is converted from `glove_vec_fi`.\n",
    "\n",
    "At the final step, **KeyedVectors** then loads in the `tmp_word2vec_fi` as word model."
   ]
  },
  {
   "cell_type": "code",
   "execution_count": 27,
   "metadata": {},
   "outputs": [
    {
     "name": "stderr",
     "output_type": "stream",
     "text": [
      "/home/ubuntu/anaconda3/lib/python3.6/site-packages/smart_open/smart_open_lib.py:398: UserWarning: This function is deprecated, use smart_open.open instead. See the migration notes for details: https://github.com/RaRe-Technologies/smart_open/blob/master/README.rst#migrating-to-the-new-open-function\n",
      "  'See the migration notes for details: %s' % _MIGRATION_NOTES_URL\n",
      "/home/ubuntu/anaconda3/lib/python3.6/site-packages/smart_open/smart_open_lib.py:398: UserWarning: This function is deprecated, use smart_open.open instead. See the migration notes for details: https://github.com/RaRe-Technologies/smart_open/blob/master/README.rst#migrating-to-the-new-open-function\n",
      "  'See the migration notes for details: %s' % _MIGRATION_NOTES_URL\n",
      "/home/ubuntu/anaconda3/lib/python3.6/site-packages/smart_open/smart_open_lib.py:398: UserWarning: This function is deprecated, use smart_open.open instead. See the migration notes for details: https://github.com/RaRe-Technologies/smart_open/blob/master/README.rst#migrating-to-the-new-open-function\n",
      "  'See the migration notes for details: %s' % _MIGRATION_NOTES_URL\n",
      "/home/ubuntu/anaconda3/lib/python3.6/site-packages/smart_open/smart_open_lib.py:398: UserWarning: This function is deprecated, use smart_open.open instead. See the migration notes for details: https://github.com/RaRe-Technologies/smart_open/blob/master/README.rst#migrating-to-the-new-open-function\n",
      "  'See the migration notes for details: %s' % _MIGRATION_NOTES_URL\n",
      "/home/ubuntu/anaconda3/lib/python3.6/site-packages/smart_open/smart_open_lib.py:398: UserWarning: This function is deprecated, use smart_open.open instead. See the migration notes for details: https://github.com/RaRe-Technologies/smart_open/blob/master/README.rst#migrating-to-the-new-open-function\n",
      "  'See the migration notes for details: %s' % _MIGRATION_NOTES_URL\n"
     ]
    }
   ],
   "source": [
    "from gensim.test.utils import get_tmpfile, datapath\n",
    "from gensim.models import KeyedVectors\n",
    "from gensim.scripts.glove2word2vec import glove2word2vec\n",
    "\n",
    "\n",
    "\n",
    "# Load in GloVe vector.\n",
    "glove_vec_fi = datapath('glove.twitter.27B/glove.twitter.27B.100d.txt')\n",
    "tmp_word2vec_fi = get_tmpfile('tmp_glove2word2vec.txt')\n",
    "\n",
    "glove2word2vec(glove_vec_fi, tmp_word2vec_fi)\n",
    "\n",
    "glove_word_model = KeyedVectors.load_word2vec_format(tmp_word2vec_fi)"
   ]
  },
  {
   "cell_type": "markdown",
   "metadata": {},
   "source": [
    "### Simple Averaging on GloVe Word Embedding"
   ]
  },
  {
   "cell_type": "code",
   "execution_count": 37,
   "metadata": {},
   "outputs": [],
   "source": [
    "# Apply word averaging on GloVe word vector.\n",
    "glove_mean_vec_tr = MeanEmbeddingVectorizer(glove_word_model)"
   ]
  },
  {
   "cell_type": "code",
   "execution_count": 38,
   "metadata": {},
   "outputs": [
    {
     "name": "stderr",
     "output_type": "stream",
     "text": [
      "WARNING:root:cannot compute average owing to no vector for []\n"
     ]
    }
   ],
   "source": [
    "glove_doc_vec = glove_mean_vec_tr.transform(all_docs.doc_words)\n",
    "\n",
    "\n",
    "# print('Demo of GloVe word averaging doc vector...')\n",
    "# display(glove_doc_vec[4])"
   ]
  },
  {
   "cell_type": "code",
   "execution_count": 39,
   "metadata": {},
   "outputs": [
    {
     "name": "stdout",
     "output_type": "stream",
     "text": [
      "Examine if glove_doc_vec is equal to self-trained doc_vec...\n"
     ]
    },
    {
     "data": {
      "text/plain": [
       "array([False, False, False, False, False, False, False, False, False,\n",
       "       False, False, False, False, False, False, False, False, False,\n",
       "       False, False, False, False, False, False, False, False, False,\n",
       "       False, False, False, False, False, False, False, False, False,\n",
       "       False, False, False, False, False, False, False, False, False,\n",
       "       False, False, False, False, False, False, False, False, False,\n",
       "       False, False, False, False, False, False, False, False, False,\n",
       "       False, False, False, False, False, False, False, False, False,\n",
       "       False, False, False, False, False, False, False, False, False,\n",
       "       False, False, False, False, False, False, False, False, False,\n",
       "       False, False, False, False, False, False, False, False, False,\n",
       "       False])"
      ]
     },
     "execution_count": 39,
     "metadata": {},
     "output_type": "execute_result"
    }
   ],
   "source": [
    "# Examine if glove_doc_vec is equal to self-trained doc_vec.\n",
    "print('Examine if glove_doc_vec is equal to self-trained doc_vec...')\n",
    "glove_doc_vec[4] == doc_vec[4]"
   ]
  },
  {
   "cell_type": "code",
   "execution_count": 40,
   "metadata": {},
   "outputs": [
    {
     "name": "stdout",
     "output_type": "stream",
     "text": [
      "Shape of glove-word-mean doc2vec...\n"
     ]
    },
    {
     "data": {
      "text/plain": [
       "(25000, 100)"
      ]
     },
     "metadata": {},
     "output_type": "display_data"
    },
    {
     "name": "stdout",
     "output_type": "stream",
     "text": [
      "Save glove-word-mean doc2vec as csv file...\n"
     ]
    }
   ],
   "source": [
    "# Save glove word averaging doc2vec.\n",
    "print('Shape of glove-word-mean doc2vec...')\n",
    "display(glove_doc_vec.shape)\n",
    "print('Save glove-word-mean doc2vec as csv file...')\n",
    "np.savetxt(os.path.join(dir_path, 'glove_doc_vec.csv'), glove_doc_vec, delimiter=',')"
   ]
  },
  {
   "cell_type": "markdown",
   "metadata": {},
   "source": [
    "## Apply Doc2vec Training Directly"
   ]
  },
  {
   "cell_type": "markdown",
   "metadata": {},
   "source": [
    "### PV-DM Model"
   ]
  },
  {
   "cell_type": "markdown",
   "metadata": {},
   "source": [
    "Last but not least, we still have one more option - to directly train doc2vec, and no need to average all word embeddings. Here I chose **PV-DM model** to train my doc2vec.\n",
    "\n",
    "The script is mostly referred from [Gensim tutorial](https://github.com/RaRe-Technologies/gensim/blob/3c3506d51a2caf6b890de3b1b32a8b85f7566ca5/docs/notebooks/doc2vec-IMDB.ipynb). And again, to save all the labor, I create a class **DocModel** for it. The class just needs to take in the **TaggedDocument** and then we call `self.custom_train()` method, the doc model will train itself."
   ]
  },
  {
   "cell_type": "markdown",
   "metadata": {},
   "source": [
    "<mark>**APPENDIX: Training with Fixed Learning Rate.**</mark>\n",
    "\n",
    "It's said to achieve better result, but the statement is from a rather old-version gensim tutorial. I found no better training result out of using fixed learning rate. Instead, using the default one, which is also recommended by the new gensim document achieving better performance.\n",
    "\n",
    "Excerpted from [Doc2vec tutorial](https://rare-technologies.com/doc2vec-tutorial/)\n",
    "\n",
    "I have obtained better results by iterating over the data several times and either\n",
    "\n",
    "1. randomizing the order of input sentences, or\n",
    "2. manually controlling the learning rate over the course of several iterations."
   ]
  },
  {
   "cell_type": "code",
   "execution_count": 14,
   "metadata": {},
   "outputs": [],
   "source": [
    "from UtilWordEmbedding import DocModel\n",
    "\n",
    "# Configure keyed arguments for Doc2Vec model.\n",
    "dm_args = {\n",
    "    'dm': 1,\n",
    "    'dm_mean': 1,\n",
    "    'vector_size': 100,\n",
    "    'window': 5,\n",
    "    'negative': 5,\n",
    "    'hs': 0,\n",
    "    'min_count': 2,\n",
    "    'sample': 0,\n",
    "    'workers': workers,\n",
    "    'alpha': 0.025,\n",
    "    'min_alpha': 0.025,\n",
    "    'epochs': 100,\n",
    "    'comment': 'alpha=0.025'\n",
    "}"
   ]
  },
  {
   "cell_type": "code",
   "execution_count": 15,
   "metadata": {},
   "outputs": [],
   "source": [
    "# Instantiate a pv-dm model.\n",
    "dm = DocModel(docs=all_docs.tagdocs, **dm_args)"
   ]
  },
  {
   "cell_type": "code",
   "execution_count": 16,
   "metadata": {},
   "outputs": [],
   "source": [
    "dm.custom_train()"
   ]
  },
  {
   "cell_type": "code",
   "execution_count": null,
   "metadata": {},
   "outputs": [],
   "source": [
    "# Demo: doc vector.\n",
    "# dm.model.docvecs[0]"
   ]
  },
  {
   "cell_type": "code",
   "execution_count": 17,
   "metadata": {},
   "outputs": [
    {
     "name": "stdout",
     "output_type": "stream",
     "text": [
      "Shape of dm doc2vec...\n"
     ]
    },
    {
     "data": {
      "text/plain": [
       "(25000, 100)"
      ]
     },
     "metadata": {},
     "output_type": "display_data"
    },
    {
     "name": "stdout",
     "output_type": "stream",
     "text": [
      "Save dm doc2vec as csv file...\n"
     ]
    }
   ],
   "source": [
    "# Save doc2vec as feature dataframe.\n",
    "dm_doc_vec_ls = []\n",
    "for i in range(len(dm.model.docvecs)):\n",
    "    dm_doc_vec_ls.append(dm.model.docvecs[i])\n",
    "\n",
    "\n",
    "dm_doc_vec = pd.DataFrame(dm_doc_vec_ls)\n",
    "print('Shape of dm doc2vec...')\n",
    "display(dm_doc_vec.shape)\n",
    "\n",
    "print('Save dm doc2vec as csv file...')\n",
    "dm_doc_vec.to_csv(os.path.join(dir_path, 'dm_doc_vec.csv'), index=False, header=False)"
   ]
  },
  {
   "cell_type": "markdown",
   "metadata": {},
   "source": [
    "## Save Target Label"
   ]
  },
  {
   "cell_type": "code",
   "execution_count": null,
   "metadata": {},
   "outputs": [],
   "source": [
    "print('Shape of target labels...')\n",
    "display(all_docs.labels.shape)\n",
    "target_labels = all_docs.labels\n",
    "\n",
    "print('Save target labels...')\n",
    "target_labels.to_csv(os.path.join(dir_path, 'target_labels.csv'), index=False, header=True)"
   ]
  },
  {
   "cell_type": "markdown",
   "metadata": {},
   "source": [
    "# Prepare the Classification Model"
   ]
  },
  {
   "cell_type": "markdown",
   "metadata": {},
   "source": [
    "Now, we've prepared all the necessary ingredients - different types of features. Let's experiment to observe their effect on classification performance. Here, I'll use **basic logistic model** as the base model and feed in different kind of features created earlier. Hence, to compare their effectiveness.\n",
    "\n",
    "In addition to compare effects of each word embedding averaging method, I also try to **concatenate word2vec and doc2vec** together, and see if it can boost up the performance even more.\n",
    "\n",
    "I used TF-IDF weighted word embedding and PV-DM doc2vec together. The result shows that it increases the accuracy on training dataset (perhaps a sign of over-fitting?), but not so significant improvement on testing dataset compared using TF-IDF word2vec alone."
   ]
  },
  {
   "cell_type": "code",
   "execution_count": 4,
   "metadata": {},
   "outputs": [],
   "source": [
    "import os\n",
    "\n",
    "# Read in saved files.\n",
    "dir_path = '../Private-Dataset'\n",
    "\n",
    "doc_vec = pd.read_csv(os.path.join(dir_path, 'doc_vec.csv'), header=None)\n",
    "tfidf_doc_vec = pd.read_csv(os.path.join(dir_path, 'tfidf_doc_vec.csv'), header=None)\n",
    "glove_doc_vec = pd.read_csv(os.path.join(dir_path, 'glove_doc_vec.csv'), header=None)\n",
    "dm_doc_vec = pd.read_csv(os.path.join(dir_path, 'dm_doc_vec.csv'), header=None)\n",
    "target_labels = pd.read_csv(os.path.join(dir_path, 'target_labels.csv'), header=0)"
   ]
  },
  {
   "cell_type": "markdown",
   "metadata": {},
   "source": [
    "## Set up Model"
   ]
  },
  {
   "cell_type": "code",
   "execution_count": 5,
   "metadata": {},
   "outputs": [],
   "source": [
    "from sklearn.linear_model import LogisticRegression\n",
    "\n",
    "\n",
    "# Classification via Logistic Model\n",
    "logistic = LogisticRegression(random_state=1, multi_class='multinomial', solver='saga')"
   ]
  },
  {
   "cell_type": "code",
   "execution_count": null,
   "metadata": {},
   "outputs": [],
   "source": [
    "from sklearn.linear_model import SGDClassifier\n",
    "\n",
    "# (Optional) Classification via stochastic gradient descent classifier.\n",
    "sgd = SGDClassifier(loss='hinge',\n",
    "                    penality='l2',\n",
    "                    verbose=1,\n",
    "                    random_state=1,\n",
    "                    learning_rate='invscaling',\n",
    "                    eta0=1)"
   ]
  },
  {
   "cell_type": "markdown",
   "metadata": {},
   "source": [
    "## (Demo) Hyper-Parameters"
   ]
  },
  {
   "cell_type": "code",
   "execution_count": null,
   "metadata": {},
   "outputs": [],
   "source": [
    "model = logistic  # or choose sgd.\n",
    "df = tfidf_doc_vec\n",
    "concate = False\n",
    "concat_df = dm_doc_vec"
   ]
  },
  {
   "cell_type": "markdown",
   "metadata": {},
   "source": [
    "## Define Train Function"
   ]
  },
  {
   "cell_type": "code",
   "execution_count": 6,
   "metadata": {},
   "outputs": [],
   "source": [
    "from UtilTextClassification import split_size\n",
    "from sklearn.model_selection import train_test_split\n",
    "\n",
    "\n",
    "\n",
    "\n",
    "def main(model, df, concate, concat_df):\n",
    "    if concate:\n",
    "        df = pd.concat([df, concat_df], axis=1, ignore_index=True)\n",
    "    else:\n",
    "        df = df\n",
    "\n",
    "    # Specify train/valid/test size.\n",
    "    train_size, valid_size, test_size = split_size(df, train=0.7, valid=0.)  # no need to use valid dataset here\n",
    "    # Prepare test dataset.\n",
    "    train_X, test_X, train_y, test_y = train_test_split(df,\n",
    "                                                    target_labels,\n",
    "                                                    test_size=test_size,\n",
    "                                                    random_state=1,\n",
    "                                                    stratify=target_labels)\n",
    "\n",
    "    # Prepare valid dataset.\n",
    "    if valid_size != 0:\n",
    "        train_X, valid_X, train_y, valid_y = train_test_split(train_X,\n",
    "                                                      train_y,\n",
    "                                                      test_size=valid_size,\n",
    "                                                      random_state=1,\n",
    "                                                      stratify=train_y)\n",
    "    \n",
    "    print('Shape of train_X: {}'.format(train_X.shape))\n",
    "    print('Shape of valid_X: {}'.format(valid_X.shape if 'valid_X' in vars() else (0,0)))\n",
    "    print('Shape of text_X: {}'.format(test_X.shape))\n",
    "    \n",
    "    model.fit(train_X, train_y)\n",
    "    \n",
    "    if valid_size != 0:\n",
    "        return model, train_X, valid_X, test_X, train_y, valid_y, test_y\n",
    "    else:\n",
    "        return model, train_X, None, test_X, train_y, None, test_y"
   ]
  },
  {
   "cell_type": "markdown",
   "metadata": {},
   "source": [
    "# Test Model"
   ]
  },
  {
   "cell_type": "markdown",
   "metadata": {},
   "source": [
    "## Performance on Simple Averaging Word Vector"
   ]
  },
  {
   "cell_type": "markdown",
   "metadata": {},
   "source": [
    "### Hyper-Parameters"
   ]
  },
  {
   "cell_type": "code",
   "execution_count": 7,
   "metadata": {},
   "outputs": [],
   "source": [
    "model = logistic  # or choose sgd.\n",
    "df = doc_vec\n",
    "concate = False\n",
    "concat_df = dm_doc_vec"
   ]
  },
  {
   "cell_type": "markdown",
   "metadata": {},
   "source": [
    "### Train"
   ]
  },
  {
   "cell_type": "code",
   "execution_count": 8,
   "metadata": {},
   "outputs": [
    {
     "name": "stdout",
     "output_type": "stream",
     "text": [
      "Shape of train_X: (17500, 100)\n",
      "Shape of valid_X: (0, 0)\n",
      "Shape of text_X: (7500, 100)\n"
     ]
    },
    {
     "name": "stderr",
     "output_type": "stream",
     "text": [
      "/home/ubuntu/anaconda3/lib/python3.6/site-packages/sklearn/utils/validation.py:578: DataConversionWarning: A column-vector y was passed when a 1d array was expected. Please change the shape of y to (n_samples, ), for example using ravel().\n",
      "  y = column_or_1d(y, warn=True)\n",
      "/home/ubuntu/anaconda3/lib/python3.6/site-packages/sklearn/linear_model/sag.py:326: ConvergenceWarning: The max_iter was reached which means the coef_ did not converge\n",
      "  \"the coef_ did not converge\", ConvergenceWarning)\n"
     ]
    }
   ],
   "source": [
    "# __main__\n",
    "clf, train_X, valid_X, test_X, train_y, valid_y, test_y = main(model, \n",
    "                                                               df, \n",
    "                                                               concate=concate, \n",
    "                                                               concat_df=concat_df)"
   ]
  },
  {
   "cell_type": "markdown",
   "metadata": {},
   "source": [
    "### Test on Training Dataset"
   ]
  },
  {
   "cell_type": "code",
   "execution_count": 9,
   "metadata": {},
   "outputs": [
    {
     "name": "stdout",
     "output_type": "stream",
     "text": [
      "Performance of Mean Word Vector on training dataset...\n",
      "Score on dataset...\n",
      "\n",
      "Confusion Matrix:\n",
      " [[1048   11  141   32   33   22   47    0    0    9    3]\n",
      " [  27  475   55   79  162    3   81    0   16    0    6]\n",
      " [ 114   16 1483  120  157    5   25    0    1    3    1]\n",
      " [  17   40   83 2609  369    2   72    0    1    1   15]\n",
      " [  34   48   84  295 4354    3   87    0   12    1   47]\n",
      " [  37    1    8    0    8  128    3    0    1    3    0]\n",
      " [  29   24   27   65   68    2 3769    0    2    0    6]\n",
      " [  10    0    3    1    8    4    3    0    0    0    0]\n",
      " [   8   19    5    7   67    3   12    0   67    0    3]\n",
      " [  23    0   40    1    1    2    0    0    0   41    0]\n",
      " [   4    8    4   16   71    1   21    0    0    0  517]]\n",
      "\n",
      "Classification Report:\n",
      "                          precision    recall  f1-score   support\n",
      "\n",
      "Bank account or service       0.78      0.78      0.78      1346\n",
      "          Consumer Loan       0.74      0.53      0.61       904\n",
      "            Credit card       0.77      0.77      0.77      1925\n",
      "       Credit reporting       0.81      0.81      0.81      3209\n",
      "        Debt collection       0.82      0.88      0.85      4965\n",
      "        Money transfers       0.73      0.68      0.70       189\n",
      "               Mortgage       0.91      0.94      0.93      3992\n",
      "Other financial service       0.00      0.00      0.00        29\n",
      "            Payday loan       0.67      0.35      0.46       191\n",
      "           Prepaid card       0.71      0.38      0.49       108\n",
      "           Student loan       0.86      0.81      0.83       642\n",
      "\n",
      "            avg / total       0.82      0.83      0.82     17500\n",
      "\n",
      "\n",
      "accuracy: 0.828\n",
      "f1 score: 0.824\n"
     ]
    },
    {
     "name": "stderr",
     "output_type": "stream",
     "text": [
      "/home/ubuntu/anaconda3/lib/python3.6/site-packages/sklearn/metrics/classification.py:1135: UndefinedMetricWarning: Precision and F-score are ill-defined and being set to 0.0 in labels with no predicted samples.\n",
      "  'precision', 'predicted', average, warn_for)\n",
      "/home/ubuntu/anaconda3/lib/python3.6/site-packages/sklearn/metrics/classification.py:1135: UndefinedMetricWarning: F-score is ill-defined and being set to 0.0 in labels with no predicted samples.\n",
      "  'precision', 'predicted', average, warn_for)\n"
     ]
    }
   ],
   "source": [
    "from UtilTextClassification import sk_evaluate\n",
    "\n",
    "\n",
    "# Score on valid dataset.\n",
    "print('Performance of Mean Word Vector on training dataset...')\n",
    "_, _ = sk_evaluate(clf, train_X, train_y, label_names=None)"
   ]
  },
  {
   "cell_type": "markdown",
   "metadata": {},
   "source": [
    "### Test on Testing Dataset"
   ]
  },
  {
   "cell_type": "code",
   "execution_count": 10,
   "metadata": {},
   "outputs": [
    {
     "name": "stdout",
     "output_type": "stream",
     "text": [
      "Performance of Mean Word Vector on testing dataset...\n",
      "Score on dataset...\n",
      "\n",
      "Confusion Matrix:\n",
      " [[ 435    5   54   13   17   14   33    1    3    2    0]\n",
      " [  11  200   16   28   80    1   39    1    4    0    8]\n",
      " [  41    6  629   64   64    2   13    0    0    4    2]\n",
      " [   9   26   44 1101  144    1   40    0    2    0    8]\n",
      " [  13   27   50  135 1833    0   42    0   11    1   16]\n",
      " [  23    0    7    2    1   43    3    1    1    0    0]\n",
      " [  12   12    5   29   29    0 1621    0    0    1    2]\n",
      " [   4    0    1    2    4    0    0    1    0    0    0]\n",
      " [   2   15    3    1   26    0    7    0   25    0    3]\n",
      " [   8    0   16    0    2    3    1    0    2   14    0]\n",
      " [   2    3    2   14   29    0    9    0    1    0  215]]\n",
      "\n",
      "Classification Report:\n",
      "                          precision    recall  f1-score   support\n",
      "\n",
      "Bank account or service       0.78      0.75      0.77       577\n",
      "          Consumer Loan       0.68      0.52      0.59       388\n",
      "            Credit card       0.76      0.76      0.76       825\n",
      "       Credit reporting       0.79      0.80      0.80      1375\n",
      "        Debt collection       0.82      0.86      0.84      2128\n",
      "        Money transfers       0.67      0.53      0.59        81\n",
      "               Mortgage       0.90      0.95      0.92      1711\n",
      "Other financial service       0.25      0.08      0.12        12\n",
      "            Payday loan       0.51      0.30      0.38        82\n",
      "           Prepaid card       0.64      0.30      0.41        46\n",
      "           Student loan       0.85      0.78      0.81       275\n",
      "\n",
      "            avg / total       0.81      0.82      0.81      7500\n",
      "\n",
      "\n",
      "accuracy: 0.816\n",
      "f1 score: 0.811\n"
     ]
    }
   ],
   "source": [
    "# Score on test dataset.\n",
    "print('Performance of Mean Word Vector on testing dataset...')\n",
    "_, _ = sk_evaluate(clf, test_X, test_y, label_names=None)"
   ]
  },
  {
   "cell_type": "markdown",
   "metadata": {},
   "source": [
    "## Performance on Tf-Idf Weighted Averaging Word Vector"
   ]
  },
  {
   "cell_type": "markdown",
   "metadata": {},
   "source": [
    "### Hyper-Parameters"
   ]
  },
  {
   "cell_type": "code",
   "execution_count": 11,
   "metadata": {},
   "outputs": [],
   "source": [
    "model = logistic  # or choose sgd.\n",
    "df = tfidf_doc_vec\n",
    "concate = False\n",
    "concat_df = dm_doc_vec"
   ]
  },
  {
   "cell_type": "markdown",
   "metadata": {},
   "source": [
    "### Train"
   ]
  },
  {
   "cell_type": "code",
   "execution_count": 12,
   "metadata": {},
   "outputs": [
    {
     "name": "stdout",
     "output_type": "stream",
     "text": [
      "Shape of train_X: (17500, 100)\n",
      "Shape of valid_X: (0, 0)\n",
      "Shape of text_X: (7500, 100)\n"
     ]
    },
    {
     "name": "stderr",
     "output_type": "stream",
     "text": [
      "/home/ubuntu/anaconda3/lib/python3.6/site-packages/sklearn/utils/validation.py:578: DataConversionWarning: A column-vector y was passed when a 1d array was expected. Please change the shape of y to (n_samples, ), for example using ravel().\n",
      "  y = column_or_1d(y, warn=True)\n",
      "/home/ubuntu/anaconda3/lib/python3.6/site-packages/sklearn/linear_model/sag.py:326: ConvergenceWarning: The max_iter was reached which means the coef_ did not converge\n",
      "  \"the coef_ did not converge\", ConvergenceWarning)\n"
     ]
    }
   ],
   "source": [
    "# __main__\n",
    "clf, train_X, valid_X, test_X, train_y, valid_y, test_y = main(model, \n",
    "                                                               df, \n",
    "                                                               concate=concate, \n",
    "                                                               concat_df=concat_df)"
   ]
  },
  {
   "cell_type": "markdown",
   "metadata": {},
   "source": [
    "### Test on Training Dataset"
   ]
  },
  {
   "cell_type": "code",
   "execution_count": 13,
   "metadata": {},
   "outputs": [
    {
     "name": "stdout",
     "output_type": "stream",
     "text": [
      "Performance of Tf-Idf Mean Word Vector on training dataset...\n",
      "Score on dataset...\n",
      "\n",
      "Confusion Matrix:\n",
      " [[1035   14  155   26   37   16   51    0    1    7    4]\n",
      " [  24  474   56   82  160    2   87    0   14    0    5]\n",
      " [ 108   18 1471  122  161    5   32    0    2    3    3]\n",
      " [  23   39   77 2608  376    3   66    0    1    0   16]\n",
      " [  38   53  101  301 4322    3   88    0   12    1   46]\n",
      " [  38    1    9    1    8  126    3    0    0    3    0]\n",
      " [  33   24   27   70   65    3 3763    0    1    0    6]\n",
      " [   8    0    4    1    5    5    2    4    0    0    0]\n",
      " [   7   21    8    7   66    3   10    0   68    0    1]\n",
      " [  21    0   36    0    5    2    0    0    0   44    0]\n",
      " [   5    7    4   12   72    1   22    0    1    0  518]]\n",
      "\n",
      "Classification Report:\n",
      "                          precision    recall  f1-score   support\n",
      "\n",
      "Bank account or service       0.77      0.77      0.77      1346\n",
      "          Consumer Loan       0.73      0.52      0.61       904\n",
      "            Credit card       0.76      0.76      0.76      1925\n",
      "       Credit reporting       0.81      0.81      0.81      3209\n",
      "        Debt collection       0.82      0.87      0.84      4965\n",
      "        Money transfers       0.75      0.67      0.70       189\n",
      "               Mortgage       0.91      0.94      0.93      3992\n",
      "Other financial service       1.00      0.14      0.24        29\n",
      "            Payday loan       0.68      0.36      0.47       191\n",
      "           Prepaid card       0.76      0.41      0.53       108\n",
      "           Student loan       0.86      0.81      0.83       642\n",
      "\n",
      "            avg / total       0.82      0.82      0.82     17500\n",
      "\n",
      "\n",
      "accuracy: 0.825\n",
      "f1 score: 0.821\n"
     ]
    }
   ],
   "source": [
    "from UtilTextClassification import sk_evaluate\n",
    "\n",
    "\n",
    "# Score on valid dataset.\n",
    "print('Performance of Tf-Idf Mean Word Vector on training dataset...')\n",
    "_, _ = sk_evaluate(clf, train_X, train_y, label_names=None)"
   ]
  },
  {
   "cell_type": "markdown",
   "metadata": {},
   "source": [
    "### Test on Testing Dataset"
   ]
  },
  {
   "cell_type": "code",
   "execution_count": 14,
   "metadata": {},
   "outputs": [
    {
     "name": "stdout",
     "output_type": "stream",
     "text": [
      "Performance of Tf-Idf Mean Word Vector on testing dataset...\n",
      "Score on dataset...\n",
      "\n",
      "Confusion Matrix:\n",
      " [[ 440    3   52   14   16   13   33    0    3    3    0]\n",
      " [  12  192   24   26   79    1   42    1    5    0    6]\n",
      " [  49    4  623   66   65    1   13    0    0    3    1]\n",
      " [  12   23   38 1113  144    1   34    0    1    0    9]\n",
      " [  16   26   42  139 1833    1   40    0   10    1   20]\n",
      " [  21    0    7    1    4   44    2    1    1    0    0]\n",
      " [  16    7    9   29   34    0 1612    0    1    1    2]\n",
      " [   4    0    1    2    4    0    0    1    0    0    0]\n",
      " [   3   12    3    1   28    0    5    0   27    0    3]\n",
      " [   5    0   19    0    2    3    1    0    2   14    0]\n",
      " [   1    4    2   11   34    0   10    0    0    0  213]]\n",
      "\n",
      "Classification Report:\n",
      "                          precision    recall  f1-score   support\n",
      "\n",
      "Bank account or service       0.76      0.76      0.76       577\n",
      "          Consumer Loan       0.71      0.49      0.58       388\n",
      "            Credit card       0.76      0.76      0.76       825\n",
      "       Credit reporting       0.79      0.81      0.80      1375\n",
      "        Debt collection       0.82      0.86      0.84      2128\n",
      "        Money transfers       0.69      0.54      0.61        81\n",
      "               Mortgage       0.90      0.94      0.92      1711\n",
      "Other financial service       0.33      0.08      0.13        12\n",
      "            Payday loan       0.54      0.33      0.41        82\n",
      "           Prepaid card       0.64      0.30      0.41        46\n",
      "           Student loan       0.84      0.77      0.81       275\n",
      "\n",
      "            avg / total       0.81      0.81      0.81      7500\n",
      "\n",
      "\n",
      "accuracy: 0.815\n",
      "f1 score: 0.810\n"
     ]
    }
   ],
   "source": [
    "# Score on test dataset.\n",
    "print('Performance of Tf-Idf Mean Word Vector on testing dataset...')\n",
    "_, _ = sk_evaluate(clf, test_X, test_y, label_names=None)"
   ]
  },
  {
   "cell_type": "markdown",
   "metadata": {},
   "source": [
    "## Performance on Simple Averaging of GloVe Word Vector"
   ]
  },
  {
   "cell_type": "markdown",
   "metadata": {},
   "source": [
    "### Hyper-Parameters"
   ]
  },
  {
   "cell_type": "code",
   "execution_count": 15,
   "metadata": {},
   "outputs": [],
   "source": [
    "model = logistic  # or choose sgd.\n",
    "df = glove_doc_vec\n",
    "concate = False\n",
    "concat_df = dm_doc_vec"
   ]
  },
  {
   "cell_type": "markdown",
   "metadata": {},
   "source": [
    "### Train"
   ]
  },
  {
   "cell_type": "code",
   "execution_count": 16,
   "metadata": {},
   "outputs": [
    {
     "name": "stdout",
     "output_type": "stream",
     "text": [
      "Shape of train_X: (17500, 100)\n",
      "Shape of valid_X: (0, 0)\n",
      "Shape of text_X: (7500, 100)\n"
     ]
    },
    {
     "name": "stderr",
     "output_type": "stream",
     "text": [
      "/home/ubuntu/anaconda3/lib/python3.6/site-packages/sklearn/utils/validation.py:578: DataConversionWarning: A column-vector y was passed when a 1d array was expected. Please change the shape of y to (n_samples, ), for example using ravel().\n",
      "  y = column_or_1d(y, warn=True)\n",
      "/home/ubuntu/anaconda3/lib/python3.6/site-packages/sklearn/linear_model/sag.py:326: ConvergenceWarning: The max_iter was reached which means the coef_ did not converge\n",
      "  \"the coef_ did not converge\", ConvergenceWarning)\n"
     ]
    }
   ],
   "source": [
    "# __main__\n",
    "clf, train_X, valid_X, test_X, train_y, valid_y, test_y = main(model, \n",
    "                                                               df, \n",
    "                                                               concate=concate, \n",
    "                                                               concat_df=concat_df)"
   ]
  },
  {
   "cell_type": "markdown",
   "metadata": {},
   "source": [
    "### Test on Training Dataset"
   ]
  },
  {
   "cell_type": "code",
   "execution_count": 17,
   "metadata": {},
   "outputs": [
    {
     "name": "stdout",
     "output_type": "stream",
     "text": [
      "Performance of GloVe Mean Word Vector on training dataset...\n",
      "Score on dataset...\n",
      "\n",
      "Confusion Matrix:\n",
      " [[ 882    8  197   45  120    6   82    0    1    3    2]\n",
      " [  41  299   55   85  187    0  214    0   10    0   13]\n",
      " [ 121   17 1231  157  319    1   72    0    1    0    6]\n",
      " [  39   34  107 2385  477    1  148    0    1    0   17]\n",
      " [  67   36  111  407 4062    0  240    0    5    0   37]\n",
      " [  67    3   24    4   39   40   12    0    0    0    0]\n",
      " [  45   17   37  101  194    1 3573    0    0    0   24]\n",
      " [   5    0    4    2   10    3    5    0    0    0    0]\n",
      " [  14    5   13   10   56    1   48    0   34    0   10]\n",
      " [  18    0   56    3   15    1    0    0    2   13    0]\n",
      " [   9    6   13   24  104    0  121    0    0    0  365]]\n",
      "\n",
      "Classification Report:\n",
      "                          precision    recall  f1-score   support\n",
      "\n",
      "Bank account or service       0.67      0.66      0.66      1346\n",
      "          Consumer Loan       0.70      0.33      0.45       904\n",
      "            Credit card       0.67      0.64      0.65      1925\n",
      "       Credit reporting       0.74      0.74      0.74      3209\n",
      "        Debt collection       0.73      0.82      0.77      4965\n",
      "        Money transfers       0.74      0.21      0.33       189\n",
      "               Mortgage       0.79      0.90      0.84      3992\n",
      "Other financial service       0.00      0.00      0.00        29\n",
      "            Payday loan       0.63      0.18      0.28       191\n",
      "           Prepaid card       0.81      0.12      0.21       108\n",
      "           Student loan       0.77      0.57      0.65       642\n",
      "\n",
      "            avg / total       0.73      0.74      0.72     17500\n",
      "\n",
      "\n",
      "accuracy: 0.736\n",
      "f1 score: 0.724\n"
     ]
    },
    {
     "name": "stderr",
     "output_type": "stream",
     "text": [
      "/home/ubuntu/anaconda3/lib/python3.6/site-packages/sklearn/metrics/classification.py:1135: UndefinedMetricWarning: Precision and F-score are ill-defined and being set to 0.0 in labels with no predicted samples.\n",
      "  'precision', 'predicted', average, warn_for)\n",
      "/home/ubuntu/anaconda3/lib/python3.6/site-packages/sklearn/metrics/classification.py:1135: UndefinedMetricWarning: F-score is ill-defined and being set to 0.0 in labels with no predicted samples.\n",
      "  'precision', 'predicted', average, warn_for)\n"
     ]
    }
   ],
   "source": [
    "from UtilTextClassification import sk_evaluate\n",
    "\n",
    "\n",
    "# Score on valid dataset.\n",
    "print('Performance of GloVe Mean Word Vector on training dataset...')\n",
    "_, _ = sk_evaluate(clf, train_X, train_y, label_names=None)"
   ]
  },
  {
   "cell_type": "markdown",
   "metadata": {},
   "source": [
    "### Test on Testing Dataset"
   ]
  },
  {
   "cell_type": "code",
   "execution_count": 18,
   "metadata": {},
   "outputs": [
    {
     "name": "stdout",
     "output_type": "stream",
     "text": [
      "Performance of GloVe Mean Word Vector on testing dataset...\n",
      "Score on dataset...\n",
      "\n",
      "Confusion Matrix:\n",
      " [[ 384    5   68   17   54    3   43    0    2    1    0]\n",
      " [   9  139   23   28   77    0  100    0    1    0   11]\n",
      " [  51   13  515   77  141    0   24    0    1    2    1]\n",
      " [  19   22   48 1007  209    3   62    0    0    0    5]\n",
      " [  36   22   57  171 1706    1  113    0    7    1   14]\n",
      " [  28    1   14    3   17   14    4    0    0    0    0]\n",
      " [  19   10   12   36   88    1 1535    0    1    0    9]\n",
      " [   3    0    0    2    6    1    0    0    0    0    0]\n",
      " [   5    5    2    1   22    0   29    0   12    0    6]\n",
      " [   6    0   28    0    5    2    0    0    2    3    0]\n",
      " [   4    6    5   10   46    0   52    0    2    0  150]]\n",
      "\n",
      "Classification Report:\n",
      "                          precision    recall  f1-score   support\n",
      "\n",
      "Bank account or service       0.68      0.67      0.67       577\n",
      "          Consumer Loan       0.62      0.36      0.45       388\n",
      "            Credit card       0.67      0.62      0.64       825\n",
      "       Credit reporting       0.74      0.73      0.74      1375\n",
      "        Debt collection       0.72      0.80      0.76      2128\n",
      "        Money transfers       0.56      0.17      0.26        81\n",
      "               Mortgage       0.78      0.90      0.84      1711\n",
      "Other financial service       0.00      0.00      0.00        12\n",
      "            Payday loan       0.43      0.15      0.22        82\n",
      "           Prepaid card       0.43      0.07      0.11        46\n",
      "           Student loan       0.77      0.55      0.64       275\n",
      "\n",
      "            avg / total       0.72      0.73      0.72      7500\n",
      "\n",
      "\n",
      "accuracy: 0.729\n",
      "f1 score: 0.717\n"
     ]
    },
    {
     "name": "stderr",
     "output_type": "stream",
     "text": [
      "/home/ubuntu/anaconda3/lib/python3.6/site-packages/sklearn/metrics/classification.py:1135: UndefinedMetricWarning: Precision and F-score are ill-defined and being set to 0.0 in labels with no predicted samples.\n",
      "  'precision', 'predicted', average, warn_for)\n",
      "/home/ubuntu/anaconda3/lib/python3.6/site-packages/sklearn/metrics/classification.py:1135: UndefinedMetricWarning: F-score is ill-defined and being set to 0.0 in labels with no predicted samples.\n",
      "  'precision', 'predicted', average, warn_for)\n"
     ]
    }
   ],
   "source": [
    "# Score on test dataset.\n",
    "print('Performance of GloVe Mean Word Vector on testing dataset...')\n",
    "_, _ = sk_evaluate(clf, test_X, test_y, label_names=None)"
   ]
  },
  {
   "cell_type": "markdown",
   "metadata": {},
   "source": [
    "## Performance on PV-DM Doc2vec"
   ]
  },
  {
   "cell_type": "markdown",
   "metadata": {},
   "source": [
    "### Hyper-Parameters"
   ]
  },
  {
   "cell_type": "code",
   "execution_count": 19,
   "metadata": {},
   "outputs": [],
   "source": [
    "model = logistic  # or choose sgd.\n",
    "df = dm_doc_vec\n",
    "concate = False\n",
    "concat_df = dm_doc_vec"
   ]
  },
  {
   "cell_type": "markdown",
   "metadata": {},
   "source": [
    "### Train"
   ]
  },
  {
   "cell_type": "code",
   "execution_count": 20,
   "metadata": {},
   "outputs": [
    {
     "name": "stdout",
     "output_type": "stream",
     "text": [
      "Shape of train_X: (17500, 100)\n",
      "Shape of valid_X: (0, 0)\n",
      "Shape of text_X: (7500, 100)\n"
     ]
    },
    {
     "name": "stderr",
     "output_type": "stream",
     "text": [
      "/home/ubuntu/anaconda3/lib/python3.6/site-packages/sklearn/utils/validation.py:578: DataConversionWarning: A column-vector y was passed when a 1d array was expected. Please change the shape of y to (n_samples, ), for example using ravel().\n",
      "  y = column_or_1d(y, warn=True)\n",
      "/home/ubuntu/anaconda3/lib/python3.6/site-packages/sklearn/linear_model/sag.py:326: ConvergenceWarning: The max_iter was reached which means the coef_ did not converge\n",
      "  \"the coef_ did not converge\", ConvergenceWarning)\n"
     ]
    }
   ],
   "source": [
    "# __main__\n",
    "clf, train_X, valid_X, test_X, train_y, valid_y, test_y = main(model, \n",
    "                                                               df, \n",
    "                                                               concate=concate, \n",
    "                                                               concat_df=concat_df)"
   ]
  },
  {
   "cell_type": "markdown",
   "metadata": {},
   "source": [
    "### Test on Training Dataset"
   ]
  },
  {
   "cell_type": "code",
   "execution_count": 21,
   "metadata": {},
   "outputs": [
    {
     "name": "stdout",
     "output_type": "stream",
     "text": [
      "Performance of Doc2vec on training dataset...\n",
      "Score on dataset...\n",
      "\n",
      "Confusion Matrix:\n",
      " [[ 996   10  133   52   69   22   55    0    0    6    3]\n",
      " [  29  477   40   87  168    3   68    0   18    0   14]\n",
      " [  89   28 1414  154  192    6   22    0    3    9    8]\n",
      " [  25   48   89 2430  514    0   84    0    2    0   17]\n",
      " [  41   53  101  378 4219    3   98    0   21    1   50]\n",
      " [  40    1   12    2   15  109    5    0    2    3    0]\n",
      " [  33   36   28   81   98    3 3695    1    4    0   13]\n",
      " [  10    0    2    2    9    1    0    4    0    0    1]\n",
      " [  16   29    9    8   67    1   12    0   38    0   11]\n",
      " [  11    0   29    1    2    5    0    1    0   59    0]\n",
      " [   8   12    3   17   69    1   22    0    0    0  510]]\n",
      "\n",
      "Classification Report:\n",
      "                          precision    recall  f1-score   support\n",
      "\n",
      "Bank account or service       0.77      0.74      0.75      1346\n",
      "          Consumer Loan       0.69      0.53      0.60       904\n",
      "            Credit card       0.76      0.73      0.75      1925\n",
      "       Credit reporting       0.76      0.76      0.76      3209\n",
      "        Debt collection       0.78      0.85      0.81      4965\n",
      "        Money transfers       0.71      0.58      0.64       189\n",
      "               Mortgage       0.91      0.93      0.92      3992\n",
      "Other financial service       0.67      0.14      0.23        29\n",
      "            Payday loan       0.43      0.20      0.27       191\n",
      "           Prepaid card       0.76      0.55      0.63       108\n",
      "           Student loan       0.81      0.79      0.80       642\n",
      "\n",
      "            avg / total       0.79      0.80      0.79     17500\n",
      "\n",
      "\n",
      "accuracy: 0.797\n",
      "f1 score: 0.793\n"
     ]
    }
   ],
   "source": [
    "from UtilTextClassification import sk_evaluate\n",
    "\n",
    "\n",
    "# Score on valid dataset.\n",
    "print('Performance of Doc2vec on training dataset...')\n",
    "_, _ = sk_evaluate(clf, train_X, train_y, label_names=None)"
   ]
  },
  {
   "cell_type": "markdown",
   "metadata": {},
   "source": [
    "### Test on Testing Dataset"
   ]
  },
  {
   "cell_type": "code",
   "execution_count": 22,
   "metadata": {},
   "outputs": [
    {
     "name": "stdout",
     "output_type": "stream",
     "text": [
      "Performance of Doc2vec on testing dataset...\n",
      "Score on dataset...\n",
      "\n",
      "Confusion Matrix:\n",
      " [[ 409    8   56   20   32   12   32    0    1    4    3]\n",
      " [   9  194   20   35   76    0   31    0    9    1   13]\n",
      " [  48    8  594   75   83    1   10    0    0    5    1]\n",
      " [  15   24   60 1046  186    0   33    0    1    0   10]\n",
      " [  17   39   46  157 1790    0   44    3    8    2   22]\n",
      " [  20    0   13    5    3   34    2    0    0    3    1]\n",
      " [  13   16    3   45   50    2 1569    0    5    0    8]\n",
      " [   4    1    0    3    3    0    0    0    0    0    1]\n",
      " [   0   11    1    5   34    0    4    0   21    0    6]\n",
      " [   6    0    9    1    1    3    1    0    1   24    0]\n",
      " [   1    4    0   11   29    0    9    0    1    0  220]]\n",
      "\n",
      "Classification Report:\n",
      "                          precision    recall  f1-score   support\n",
      "\n",
      "Bank account or service       0.75      0.71      0.73       577\n",
      "          Consumer Loan       0.64      0.50      0.56       388\n",
      "            Credit card       0.74      0.72      0.73       825\n",
      "       Credit reporting       0.75      0.76      0.75      1375\n",
      "        Debt collection       0.78      0.84      0.81      2128\n",
      "        Money transfers       0.65      0.42      0.51        81\n",
      "               Mortgage       0.90      0.92      0.91      1711\n",
      "Other financial service       0.00      0.00      0.00        12\n",
      "            Payday loan       0.45      0.26      0.33        82\n",
      "           Prepaid card       0.62      0.52      0.56        46\n",
      "           Student loan       0.77      0.80      0.79       275\n",
      "\n",
      "            avg / total       0.78      0.79      0.78      7500\n",
      "\n",
      "\n",
      "accuracy: 0.787\n",
      "f1 score: 0.783\n"
     ]
    }
   ],
   "source": [
    "# Score on test dataset.\n",
    "print('Performance of Doc2vec on testing dataset...')\n",
    "_, _ = sk_evaluate(clf, test_X, test_y, label_names=None)"
   ]
  },
  {
   "cell_type": "markdown",
   "metadata": {},
   "source": [
    "## Performance on Tf-Idf and Doc2vec Concatenated Feature"
   ]
  },
  {
   "cell_type": "markdown",
   "metadata": {},
   "source": [
    "### Hyper-Parameters"
   ]
  },
  {
   "cell_type": "code",
   "execution_count": 23,
   "metadata": {},
   "outputs": [],
   "source": [
    "model = logistic  # or choose sgd.\n",
    "df = tfidf_doc_vec\n",
    "concate = True  # set to True.\n",
    "concat_df = dm_doc_vec"
   ]
  },
  {
   "cell_type": "markdown",
   "metadata": {},
   "source": [
    "### Train"
   ]
  },
  {
   "cell_type": "code",
   "execution_count": 24,
   "metadata": {},
   "outputs": [
    {
     "name": "stdout",
     "output_type": "stream",
     "text": [
      "Shape of train_X: (17500, 200)\n",
      "Shape of valid_X: (0, 0)\n",
      "Shape of text_X: (7500, 200)\n"
     ]
    },
    {
     "name": "stderr",
     "output_type": "stream",
     "text": [
      "/home/ubuntu/anaconda3/lib/python3.6/site-packages/sklearn/utils/validation.py:578: DataConversionWarning: A column-vector y was passed when a 1d array was expected. Please change the shape of y to (n_samples, ), for example using ravel().\n",
      "  y = column_or_1d(y, warn=True)\n",
      "/home/ubuntu/anaconda3/lib/python3.6/site-packages/sklearn/linear_model/sag.py:326: ConvergenceWarning: The max_iter was reached which means the coef_ did not converge\n",
      "  \"the coef_ did not converge\", ConvergenceWarning)\n"
     ]
    }
   ],
   "source": [
    "# __main__\n",
    "clf, train_X, valid_X, test_X, train_y, valid_y, test_y = main(model, \n",
    "                                                               df, \n",
    "                                                               concate=concate, \n",
    "                                                               concat_df=concat_df)"
   ]
  },
  {
   "cell_type": "markdown",
   "metadata": {},
   "source": [
    "### Test on Training Dataset"
   ]
  },
  {
   "cell_type": "code",
   "execution_count": 25,
   "metadata": {},
   "outputs": [
    {
     "name": "stdout",
     "output_type": "stream",
     "text": [
      "Performance of Tf-Idf Mean Word Vector and Doc2vec Combined on training dataset...\n",
      "Score on dataset...\n",
      "\n",
      "Confusion Matrix:\n",
      " [[1072   14  132   31   29   15   45    0    0    6    2]\n",
      " [  25  546   47   71  131    1   54    0   20    0    9]\n",
      " [  88   14 1533  104  150    3   25    0    0    4    4]\n",
      " [  14   39   66 2690  339    0   46    0    1    0   14]\n",
      " [  30   57   93  269 4373    5   80    1   20    0   37]\n",
      " [  29    0    7    0    3  145    2    0    1    2    0]\n",
      " [  29   25   21   59   56    1 3792    0    3    0    6]\n",
      " [   6    0    3    1    6    2    0    9    1    0    1]\n",
      " [  10   21    7    5   50    0    6    0   89    0    3]\n",
      " [  11    0   23    0    0    0    0    0    0   74    0]\n",
      " [   6    8    1   12   50    1   11    0    2    0  551]]\n",
      "\n",
      "Classification Report:\n",
      "                          precision    recall  f1-score   support\n",
      "\n",
      "Bank account or service       0.81      0.80      0.80      1346\n",
      "          Consumer Loan       0.75      0.60      0.67       904\n",
      "            Credit card       0.79      0.80      0.79      1925\n",
      "       Credit reporting       0.83      0.84      0.83      3209\n",
      "        Debt collection       0.84      0.88      0.86      4965\n",
      "        Money transfers       0.84      0.77      0.80       189\n",
      "               Mortgage       0.93      0.95      0.94      3992\n",
      "Other financial service       0.90      0.31      0.46        29\n",
      "            Payday loan       0.65      0.47      0.54       191\n",
      "           Prepaid card       0.86      0.69      0.76       108\n",
      "           Student loan       0.88      0.86      0.87       642\n",
      "\n",
      "            avg / total       0.85      0.85      0.85     17500\n",
      "\n",
      "\n",
      "accuracy: 0.850\n",
      "f1 score: 0.848\n"
     ]
    }
   ],
   "source": [
    "from UtilTextClassification import sk_evaluate\n",
    "\n",
    "\n",
    "# Score on valid dataset.\n",
    "print('Performance of Tf-Idf Mean Word Vector and Doc2vec Combined on training dataset...')\n",
    "_, _ = sk_evaluate(clf, train_X, train_y, label_names=None)"
   ]
  },
  {
   "cell_type": "markdown",
   "metadata": {},
   "source": [
    "### Test on Testing Dataset"
   ]
  },
  {
   "cell_type": "code",
   "execution_count": 26,
   "metadata": {},
   "outputs": [
    {
     "name": "stdout",
     "output_type": "stream",
     "text": [
      "Performance of Tf-Idf Mean Word Vector and Doc2vec Combined on testing dataset...\n",
      "Score on dataset...\n",
      "\n",
      "Confusion Matrix:\n",
      " [[ 440    4   50   13   13   14   32    0    4    6    1]\n",
      " [   9  202   22   25   70    0   32    0   18    1    9]\n",
      " [  44    8  625   60   67    4   10    0    0    6    1]\n",
      " [  11   21   36 1137  130    1   28    0    2    1    8]\n",
      " [  16   36   50  130 1815    0   39    1   18    0   23]\n",
      " [  16    0   12    2    3   43    1    1    2    1    0]\n",
      " [  11   10    6   26   31    1 1617    0    3    1    5]\n",
      " [   4    1    0    2    4    0    0    1    0    0    0]\n",
      " [   3   10    2    1   34    0    4    0   24    0    4]\n",
      " [   8    0    8    0    1    3    1    0    2   23    0]\n",
      " [   1    7    2   13   22    1    6    0    0    0  223]]\n",
      "\n",
      "Classification Report:\n",
      "                          precision    recall  f1-score   support\n",
      "\n",
      "Bank account or service       0.78      0.76      0.77       577\n",
      "          Consumer Loan       0.68      0.52      0.59       388\n",
      "            Credit card       0.77      0.76      0.76       825\n",
      "       Credit reporting       0.81      0.83      0.82      1375\n",
      "        Debt collection       0.83      0.85      0.84      2128\n",
      "        Money transfers       0.64      0.53      0.58        81\n",
      "               Mortgage       0.91      0.95      0.93      1711\n",
      "Other financial service       0.33      0.08      0.13        12\n",
      "            Payday loan       0.33      0.29      0.31        82\n",
      "           Prepaid card       0.59      0.50      0.54        46\n",
      "           Student loan       0.81      0.81      0.81       275\n",
      "\n",
      "            avg / total       0.82      0.82      0.82      7500\n",
      "\n",
      "\n",
      "accuracy: 0.820\n",
      "f1 score: 0.817\n"
     ]
    }
   ],
   "source": [
    "# Score on test dataset.\n",
    "print('Performance of Tf-Idf Mean Word Vector and Doc2vec Combined on testing dataset...')\n",
    "_, _ = sk_evaluate(clf, test_X, test_y, label_names=None)"
   ]
  },
  {
   "cell_type": "markdown",
   "metadata": {},
   "source": [
    "# (Optional) Grid-Search for Best Hyper-Paremeters on Logistic"
   ]
  },
  {
   "cell_type": "markdown",
   "metadata": {},
   "source": [
    "<mark>**NOTE:**</mark>\n",
    "\n",
    "The `log_loss()` from sklearn expects to have predicted probs for each class. Thus, instead of simply using `clf.predict(X)`, we need to use `clf.predict_proba(X)` when computing for y_pred. In other words, if we want to use `GridSearchCV`, it's probabily best to directly specify scoring as **'neg_log_loss'**, instead of creating our own scoring func."
   ]
  },
  {
   "cell_type": "code",
   "execution_count": null,
   "metadata": {},
   "outputs": [],
   "source": [
    "from sklearn.model_selection import GridSearchCV\n",
    "from sklearn.metrics import make_scorer, log_loss\n",
    "\n",
    "logistic = LogisticRegression(random_state=1,\n",
    "                              multi_class='multinomial',\n",
    "                              solver='saga')\n",
    "\n",
    "params_log = {\"max_iter\": [100, 200, 500], \"C\": [1, 2, 5]}\n",
    "\n",
    "\n",
    "# Ref: https://scikit-learn.org/stable/modules/model_evaluation.html#scoring-parameter\n",
    "# whether the python function returns a score \n",
    "# (greater_is_better=True, the default) or a loss (greater_is_better=False). \n",
    "# If a loss, the output of the python function is negated by the scorer object, \n",
    "# conforming to the cross validation convention that scorers return higher values for better models.\n",
    "grid_log = GridSearchCV(logistic, param_grid=params_log, scoring='neg_log_loss', cv=5)\n",
    "\n",
    "grid_log.fit(train_X, train_y)\n",
    "\n",
    "print(\n",
    "    \"the best neg_log_loss of all model parameters' combination on model: {:.4f}\"\n",
    "    .format(grid_log.best_score_))"
   ]
  },
  {
   "cell_type": "code",
   "execution_count": null,
   "metadata": {},
   "outputs": [],
   "source": [
    "print(\"the parameter setting of optimized model: {}\".format(\n",
    "    grid_log.best_estimator_))"
   ]
  },
  {
   "cell_type": "code",
   "execution_count": null,
   "metadata": {},
   "outputs": [],
   "source": [
    "print(\"the accuracy of the optimized model on testing dataset...\")\n",
    "_, _ = sk_evaluate(grid_log, test_X, test_y, label_names=None)"
   ]
  },
  {
   "cell_type": "markdown",
   "metadata": {},
   "source": [
    "# (Optional) Grid-Search for Best Hyper-Parameters on SGD"
   ]
  },
  {
   "cell_type": "markdown",
   "metadata": {},
   "source": [
    "<mark>**NOTE:**</mark>\n",
    "\n",
    "The `roc_auc_score` only accepts **binary class**, thus if we have multiple classes, the `roc_auc_score` does not apply."
   ]
  },
  {
   "cell_type": "code",
   "execution_count": null,
   "metadata": {},
   "outputs": [],
   "source": [
    "from sklearn.metrics import roc_auc_score\n",
    "\n",
    "sgd = SGDClassifier(loss='hinge', penality='l2', verbose=1, random_state=1)\n",
    "\n",
    "params_sgd = {'learning_rate': ['adaptive', 'invscaling'], \n",
    "              'eta0': [1, 0.5, 0.1]}\n",
    "\n",
    "grid_sgd = GridSearchCV(sgd, param_grid=params_sgd, scoring='accuracy', cv=5)\n",
    "\n",
    "grid_sgd.fit(train_X, train_y)\n",
    "\n",
    "print(\"the best auc of all model parameters' combination on model: {:.4f}\".\n",
    "      format(grid_sgd.best_score_))"
   ]
  },
  {
   "cell_type": "code",
   "execution_count": null,
   "metadata": {},
   "outputs": [],
   "source": [
    "print(\"the parameter setting of optimized model: {}\".format(\n",
    "    grid_sgd.best_estimator_))"
   ]
  },
  {
   "cell_type": "code",
   "execution_count": null,
   "metadata": {},
   "outputs": [],
   "source": [
    "print(\"the accuracy of the optimized model on testing dataset...\")\n",
    "_, _ = sk_evaluate(grid_sgd, test_X, test_y, label_names=None)"
   ]
  },
  {
   "cell_type": "code",
   "execution_count": null,
   "metadata": {},
   "outputs": [],
   "source": []
  }
 ],
 "metadata": {
  "kernelspec": {
   "display_name": "Python 3",
   "language": "python",
   "name": "python3"
  },
  "language_info": {
   "codemirror_mode": {
    "name": "ipython",
    "version": 3
   },
   "file_extension": ".py",
   "mimetype": "text/x-python",
   "name": "python",
   "nbconvert_exporter": "python",
   "pygments_lexer": "ipython3",
   "version": "3.7.1"
  },
  "toc": {
   "base_numbering": 1,
   "nav_menu": {},
   "number_sections": true,
   "sideBar": true,
   "skip_h1_title": false,
   "title_cell": "Table of Contents",
   "title_sidebar": "Contents",
   "toc_cell": false,
   "toc_position": {},
   "toc_section_display": true,
   "toc_window_display": false
  }
 },
 "nbformat": 4,
 "nbformat_minor": 2
}
